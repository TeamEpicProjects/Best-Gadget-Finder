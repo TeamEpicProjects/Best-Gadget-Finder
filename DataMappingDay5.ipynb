{
 "cells": [
  {
   "cell_type": "code",
   "execution_count": 2,
   "id": "4a794b54",
   "metadata": {},
   "outputs": [],
   "source": [
    "from fuzzywuzzy import process\n",
    "# importing libraries\n",
    "import numpy as np\n",
    "import pandas as pd \n",
    "import re\n",
    "import csv"
   ]
  },
  {
   "cell_type": "code",
   "execution_count": 5,
   "id": "a3a90295",
   "metadata": {},
   "outputs": [
    {
     "data": {
      "text/html": [
       "<div>\n",
       "<style scoped>\n",
       "    .dataframe tbody tr th:only-of-type {\n",
       "        vertical-align: middle;\n",
       "    }\n",
       "\n",
       "    .dataframe tbody tr th {\n",
       "        vertical-align: top;\n",
       "    }\n",
       "\n",
       "    .dataframe thead th {\n",
       "        text-align: right;\n",
       "    }\n",
       "</style>\n",
       "<table border=\"1\" class=\"dataframe\">\n",
       "  <thead>\n",
       "    <tr style=\"text-align: right;\">\n",
       "      <th></th>\n",
       "      <th>Id</th>\n",
       "      <th>Name</th>\n",
       "      <th>Synonyms</th>\n",
       "      <th>SalesPrice</th>\n",
       "      <th>OriginalPrice</th>\n",
       "      <th>Availability</th>\n",
       "      <th>Ratings</th>\n",
       "      <th>ProductLink</th>\n",
       "      <th>ImageLink</th>\n",
       "    </tr>\n",
       "  </thead>\n",
       "  <tbody>\n",
       "    <tr>\n",
       "      <th>0</th>\n",
       "      <td>Amazon_1</td>\n",
       "      <td>Tecno Spark 7 (Magnet Black, 3GB RAM, 64 GB St...</td>\n",
       "      <td>['Tecno Spark 7 ', 'Tecno Spark 7 Magnet Black...</td>\n",
       "      <td>8499</td>\n",
       "      <td>9999</td>\n",
       "      <td>Available</td>\n",
       "      <td>3.9</td>\n",
       "      <td>https://www.amazon.co.in/gp/slredirect/picasso...</td>\n",
       "      <td>https://m.media-amazon.com/images/I/712hJ5hz7N...</td>\n",
       "    </tr>\n",
       "    <tr>\n",
       "      <th>1</th>\n",
       "      <td>Amazon_2</td>\n",
       "      <td>Lava Z2 (2GB RAM, 32GB Storage)- Aqua Blue, Re...</td>\n",
       "      <td>['Lava Z2 ', 'Lava Z2 2GB RAM', 'Lava Z2  32GB...</td>\n",
       "      <td>7399</td>\n",
       "      <td>7999</td>\n",
       "      <td>Available</td>\n",
       "      <td>4.1</td>\n",
       "      <td>https://www.amazon.co.in/gp/slredirect/picasso...</td>\n",
       "      <td>https://m.media-amazon.com/images/I/71y28elHfB...</td>\n",
       "    </tr>\n",
       "    <tr>\n",
       "      <th>2</th>\n",
       "      <td>Amazon_3</td>\n",
       "      <td>Redmi 9A (Nature Green, 2GB RAM, 32GB Storage)...</td>\n",
       "      <td>['Redmi 9A ', 'Redmi 9A Nature Green', 'Redmi ...</td>\n",
       "      <td>6799</td>\n",
       "      <td>8499</td>\n",
       "      <td>Available</td>\n",
       "      <td>4.2</td>\n",
       "      <td>https://www.amazon.co.in/Redmi-9A-2GB-32GB-Sto...</td>\n",
       "      <td>https://m.media-amazon.com/images/I/71sxlhYhKW...</td>\n",
       "    </tr>\n",
       "  </tbody>\n",
       "</table>\n",
       "</div>"
      ],
      "text/plain": [
       "         Id                                               Name  \\\n",
       "0  Amazon_1  Tecno Spark 7 (Magnet Black, 3GB RAM, 64 GB St...   \n",
       "1  Amazon_2  Lava Z2 (2GB RAM, 32GB Storage)- Aqua Blue, Re...   \n",
       "2  Amazon_3  Redmi 9A (Nature Green, 2GB RAM, 32GB Storage)...   \n",
       "\n",
       "                                            Synonyms SalesPrice OriginalPrice  \\\n",
       "0  ['Tecno Spark 7 ', 'Tecno Spark 7 Magnet Black...       8499          9999   \n",
       "1  ['Lava Z2 ', 'Lava Z2 2GB RAM', 'Lava Z2  32GB...       7399          7999   \n",
       "2  ['Redmi 9A ', 'Redmi 9A Nature Green', 'Redmi ...       6799          8499   \n",
       "\n",
       "  Availability  Ratings                                        ProductLink  \\\n",
       "0    Available      3.9  https://www.amazon.co.in/gp/slredirect/picasso...   \n",
       "1    Available      4.1  https://www.amazon.co.in/gp/slredirect/picasso...   \n",
       "2    Available      4.2  https://www.amazon.co.in/Redmi-9A-2GB-32GB-Sto...   \n",
       "\n",
       "                                           ImageLink  \n",
       "0  https://m.media-amazon.com/images/I/712hJ5hz7N...  \n",
       "1  https://m.media-amazon.com/images/I/71y28elHfB...  \n",
       "2  https://m.media-amazon.com/images/I/71sxlhYhKW...  "
      ]
     },
     "execution_count": 5,
     "metadata": {},
     "output_type": "execute_result"
    }
   ],
   "source": [
    "amazon_data = pd.read_csv('AmazonProductdata.csv')\n",
    "amazon_data.head(3)"
   ]
  },
  {
   "cell_type": "code",
   "execution_count": 186,
   "id": "b68d6ae6",
   "metadata": {},
   "outputs": [
    {
     "data": {
      "text/html": [
       "<div>\n",
       "<style scoped>\n",
       "    .dataframe tbody tr th:only-of-type {\n",
       "        vertical-align: middle;\n",
       "    }\n",
       "\n",
       "    .dataframe tbody tr th {\n",
       "        vertical-align: top;\n",
       "    }\n",
       "\n",
       "    .dataframe thead th {\n",
       "        text-align: right;\n",
       "    }\n",
       "</style>\n",
       "<table border=\"1\" class=\"dataframe\">\n",
       "  <thead>\n",
       "    <tr style=\"text-align: right;\">\n",
       "      <th></th>\n",
       "      <th>Name</th>\n",
       "      <th>SalesPrice</th>\n",
       "      <th>OriginalPrice</th>\n",
       "      <th>Rating</th>\n",
       "      <th>ProductLink</th>\n",
       "      <th>ImageLink</th>\n",
       "    </tr>\n",
       "  </thead>\n",
       "  <tbody>\n",
       "    <tr>\n",
       "      <th>0</th>\n",
       "      <td>Redmi 9 ( 64GB , 4 GB ) Black</td>\n",
       "      <td>9499</td>\n",
       "      <td>10999.0</td>\n",
       "      <td>3.6</td>\n",
       "      <td>https://www.snapdeal.com/product/redmi-9-64gb-...</td>\n",
       "      <td>https://n2.sdlcdn.com/imgs/j/r/t/Redmi-9-64GB-...</td>\n",
       "    </tr>\n",
       "    <tr>\n",
       "      <th>1</th>\n",
       "      <td>Xolo Era 2 ( 8GB , 1 GB ) Black</td>\n",
       "      <td>4463</td>\n",
       "      <td>NaN</td>\n",
       "      <td>3.8</td>\n",
       "      <td>https://www.snapdeal.com/product/xolo-era-2-8g...</td>\n",
       "      <td>https://n3.sdlcdn.com/imgs/h/h/d/1-31100.jpg</td>\n",
       "    </tr>\n",
       "  </tbody>\n",
       "</table>\n",
       "</div>"
      ],
      "text/plain": [
       "                              Name  SalesPrice  OriginalPrice  Rating  \\\n",
       "0    Redmi 9 ( 64GB , 4 GB ) Black        9499        10999.0     3.6   \n",
       "1  Xolo Era 2 ( 8GB , 1 GB ) Black        4463            NaN     3.8   \n",
       "\n",
       "                                         ProductLink  \\\n",
       "0  https://www.snapdeal.com/product/redmi-9-64gb-...   \n",
       "1  https://www.snapdeal.com/product/xolo-era-2-8g...   \n",
       "\n",
       "                                           ImageLink  \n",
       "0  https://n2.sdlcdn.com/imgs/j/r/t/Redmi-9-64GB-...  \n",
       "1       https://n3.sdlcdn.com/imgs/h/h/d/1-31100.jpg  "
      ]
     },
     "execution_count": 186,
     "metadata": {},
     "output_type": "execute_result"
    }
   ],
   "source": [
    "dataset = pd.read_csv('SnapDealProducts.csv')"
   ]
  },
  {
   "cell_type": "code",
   "execution_count": 187,
   "id": "16b8ab5a",
   "metadata": {},
   "outputs": [],
   "source": [
    "dataset = pd.read_csv('SnapDealProducts.csv')\n",
    "\n",
    "first_synonym = []\n",
    "second_synonym = []\n",
    "third_synonym = []\n",
    "\n",
    "# iterate product name\n",
    "for mystring in dataset['Name']:\n",
    "\n",
    "    first_partitioned_string = mystring.rpartition('(')\n",
    "    first_name = first_partitioned_string[0]\n",
    "    first_synonym.append(first_name.strip())\n",
    "\n",
    "    second_partitioned_string = mystring.rpartition(') ')\n",
    "    second_name = second_partitioned_string[0]\n",
    "    second_synonym.append(second_name.strip()+')')\n",
    "\n",
    "    third_name = re.sub(\"[(].*[) ]\", \"\", mystring)\n",
    "    third_synonym.append(third_name.strip())\n",
    "    \n",
    "first_synonym = list(dict.fromkeys(first_synonym))\n",
    "second_synonym = list(dict.fromkeys(second_synonym))\n",
    "third_synonym = list(dict.fromkeys(third_synonym))\n",
    "synonyms = first_synonym+second_synonym+third_synonym"
   ]
  },
  {
   "cell_type": "code",
   "execution_count": 16,
   "id": "73f0f6f5",
   "metadata": {},
   "outputs": [],
   "source": [
    "snapdeal= pd.read_csv('SnapdealDataset.csv')\n",
    "\n",
    "snapdeal.rename(columns={'Name': 'Snapdeal_Name',\n",
    "                         'Synonyms': 'Snapdeal_Synonyms',\n",
    "                         'SalesPrice': 'Snapdeal_SalesPrice',\n",
    "                         'OriginalPrice': 'Snapdeal_OriginalPrice',\n",
    "                         'Rating': 'Snapdeal_Rating',\n",
    "                         'ProductLink': 'Snapdeal_ProductLink',\n",
    "                         'ImageLink': 'Snapdeal_ImageLink'}, inplace=True)"
   ]
  },
  {
   "cell_type": "code",
   "execution_count": 17,
   "id": "abffd208",
   "metadata": {},
   "outputs": [],
   "source": [
    "flipkart = pd.read_csv('FlipkartDataset.csv')\n",
    "\n",
    "flipkart.rename(columns={'Name': 'Flipkart_Name',\n",
    "                         'Synonyms': 'Flipkart_Synonyms',\n",
    "                         'SalesPrice': 'Flipkart_SalesPrice',\n",
    "                         'OriginalPrice': 'Flipkart_OriginalPrice',\n",
    "                         'Rating': 'Flipkart_Rating',\n",
    "                         'ProductLink': 'Flipkart_ProductLink',\n",
    "                         'ImageLink': 'Flipkart_ImageLink'}, inplace=True)"
   ]
  },
  {
   "cell_type": "code",
   "execution_count": 32,
   "id": "7cab0d43",
   "metadata": {
    "scrolled": false
   },
   "outputs": [],
   "source": [
    "amazon_name_lst = amazon_data['Name'].to_list()"
   ]
  },
  {
   "cell_type": "code",
   "execution_count": 18,
   "id": "0e40e1fd",
   "metadata": {},
   "outputs": [],
   "source": [
    "mobile = flipkart['Flipkart_Name']"
   ]
  },
  {
   "cell_type": "code",
   "execution_count": 30,
   "id": "153242cd",
   "metadata": {},
   "outputs": [
    {
     "name": "stdout",
     "output_type": "stream",
     "text": [
      "NAN\n"
     ]
    }
   ],
   "source": [
    "name_lst = []\n",
    "for name in amazon_name_lst:\n",
    "    results = process.extractOne(name, mobile)\n",
    "    if results[1] >= 90 :\n",
    "        name_lst.append('1')\n",
    "    else :\n",
    "        print('NAN')"
   ]
  },
  {
   "cell_type": "code",
   "execution_count": 45,
   "id": "9ea068ec",
   "metadata": {},
   "outputs": [
    {
     "data": {
      "text/plain": [
       "[('Redmi 9A (Midnight Black, 32 GB)', 90, 286),\n",
       " ('Redmi 9A (Nature Green, 32 GB)', 90, 568),\n",
       " ('Redmi 9A (SeaBlue, 32 GB)', 90, 769),\n",
       " ('REDMI 9i (Midnight Black, 64 GB)', 86, 0),\n",
       " ('REDMI Note 9 (Arctic White, 64 GB)', 86, 41)]"
      ]
     },
     "execution_count": 45,
     "metadata": {},
     "output_type": "execute_result"
    }
   ],
   "source": [
    "name = 'Redmi 9A '\n",
    "mobile = flipkart['Flipkart_Name']\n",
    "def get_matches(query, choices, limit=5):\n",
    "    results = process.extract(query, choices, limit=limit)\n",
    "    return results\n",
    "\n",
    "\n",
    "matches = get_matches(name,mobile)\n",
    "matches"
   ]
  },
  {
   "cell_type": "code",
   "execution_count": 28,
   "id": "58f6044b",
   "metadata": {},
   "outputs": [
    {
     "data": {
      "text/plain": [
       "('Infinix Hot 10 (Ocean Wave, 64 GB)', 86, 1)"
      ]
     },
     "execution_count": 28,
     "metadata": {},
     "output_type": "execute_result"
    }
   ],
   "source": [
    "results[1]"
   ]
  },
  {
   "cell_type": "code",
   "execution_count": null,
   "id": "6e2448f6",
   "metadata": {},
   "outputs": [],
   "source": [
    "flipkart.merge(snapdeal,on='Synonyms',how='left')"
   ]
  },
  {
   "cell_type": "code",
   "execution_count": null,
   "id": "f5e9ade2",
   "metadata": {},
   "outputs": [],
   "source": []
  },
  {
   "cell_type": "code",
   "execution_count": 276,
   "id": "1e00d32f",
   "metadata": {},
   "outputs": [],
   "source": [
    "mobile = flipkart['Flipkart_Name']"
   ]
  },
  {
   "cell_type": "code",
   "execution_count": 172,
   "id": "63daface",
   "metadata": {},
   "outputs": [],
   "source": [
    "lst  =  flipkart['Flipkart_Synonyms_two'][0]"
   ]
  },
  {
   "cell_type": "code",
   "execution_count": 277,
   "id": "6cb8478f",
   "metadata": {},
   "outputs": [
    {
     "data": {
      "text/plain": [
       "[('REDMI 9i (Sea Blue, 64 GB)', 95.0, 56),\n",
       " ('REDMI 9i (Midnight Black, 64 GB)', 85.5, 0),\n",
       " ('realme C20 (Cool Blue, 32 GB)', 85.5, 8),\n",
       " ('realme C21 (Cross Blue, 64 GB)', 85.5, 10),\n",
       " ('Infinix Smart 5 (Aegean Blue, 32 GB)', 85.5, 16)]"
      ]
     },
     "execution_count": 277,
     "metadata": {},
     "output_type": "execute_result"
    }
   ],
   "source": [
    "def get_matches(query, choices, limit=5):\n",
    "    results = process.extract(query, choices, limit=limit)\n",
    "    return results\n",
    "\n",
    "\n",
    "matches = get_matches('Redmi 9i Sea blue',mobile)\n",
    "matches"
   ]
  }
 ],
 "metadata": {
  "kernelspec": {
   "display_name": "Python 3",
   "language": "python",
   "name": "python3"
  },
  "language_info": {
   "codemirror_mode": {
    "name": "ipython",
    "version": 3
   },
   "file_extension": ".py",
   "mimetype": "text/x-python",
   "name": "python",
   "nbconvert_exporter": "python",
   "pygments_lexer": "ipython3",
   "version": "3.8.8"
  },
  "varInspector": {
   "cols": {
    "lenName": 16,
    "lenType": 16,
    "lenVar": 40
   },
   "kernels_config": {
    "python": {
     "delete_cmd_postfix": "",
     "delete_cmd_prefix": "del ",
     "library": "var_list.py",
     "varRefreshCmd": "print(var_dic_list())"
    },
    "r": {
     "delete_cmd_postfix": ") ",
     "delete_cmd_prefix": "rm(",
     "library": "var_list.r",
     "varRefreshCmd": "cat(var_dic_list()) "
    }
   },
   "types_to_exclude": [
    "module",
    "function",
    "builtin_function_or_method",
    "instance",
    "_Feature"
   ],
   "window_display": false
  }
 },
 "nbformat": 4,
 "nbformat_minor": 5
}
