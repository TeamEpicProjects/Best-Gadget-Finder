{
 "cells": [
  {
   "cell_type": "code",
   "execution_count": 5,
   "id": "09c27539",
   "metadata": {},
   "outputs": [],
   "source": [
    "from sklearn.feature_extraction.text import TfidfVectorizer\n",
    "import pandas as pd"
   ]
  },
  {
   "cell_type": "code",
   "execution_count": 12,
   "id": "4c3ca18f",
   "metadata": {},
   "outputs": [
    {
     "name": "stdout",
     "output_type": "stream",
     "text": [
      "{'redmi': 20, '9a': 5, 'nature': 16, 'green': 12, '2gb': 0, 'ram': 19, '32gb': 2, 'storage': 21, '2ghz': 1, 'octa': 17, 'core': 9, 'helio': 13, 'g25': 10, 'processor': 18, '5000': 3, 'mah': 14, 'battery': 7, '9i': 6, 'midnight': 15, 'black': 8, '64': 4, 'gb': 11}\n",
      "  (0, 7)\t0.24613641459392016\n",
      "  (0, 14)\t0.24613641459392016\n",
      "  (0, 3)\t0.24613641459392016\n",
      "  (0, 18)\t0.24613641459392016\n",
      "  (0, 10)\t0.24613641459392016\n",
      "  (0, 13)\t0.24613641459392016\n",
      "  (0, 9)\t0.24613641459392016\n",
      "  (0, 17)\t0.24613641459392016\n",
      "  (0, 1)\t0.24613641459392016\n",
      "  (0, 21)\t0.24613641459392016\n",
      "  (0, 2)\t0.24613641459392016\n",
      "  (0, 19)\t0.24613641459392016\n",
      "  (0, 0)\t0.24613641459392016\n",
      "  (0, 12)\t0.24613641459392016\n",
      "  (0, 16)\t0.24613641459392016\n",
      "  (0, 5)\t0.24613641459392016\n",
      "  (0, 20)\t0.1751280861929285\n",
      "  (1, 11)\t0.42615959880289433\n",
      "  (1, 4)\t0.42615959880289433\n",
      "  (1, 8)\t0.42615959880289433\n",
      "  (1, 15)\t0.42615959880289433\n",
      "  (1, 6)\t0.42615959880289433\n",
      "  (1, 20)\t0.3032160644503863\n",
      "{'redmi': 18, '9a': 5, 'nature': 14, 'green': 11, '2gb': 0, 'ram': 17, '32gb': 2, 'storage': 19, '2ghz': 1, 'octa': 15, 'core': 8, 'helio': 12, 'g25': 9, 'processor': 16, '5000': 3, 'mah': 13, 'battery': 6, '64gb': 4, 'gb': 10, 'black': 7}\n",
      "  (0, 6)\t0.24613641459392016\n",
      "  (0, 13)\t0.24613641459392016\n",
      "  (0, 3)\t0.24613641459392016\n",
      "  (0, 16)\t0.24613641459392016\n",
      "  (0, 9)\t0.24613641459392016\n",
      "  (0, 12)\t0.24613641459392016\n",
      "  (0, 8)\t0.24613641459392016\n",
      "  (0, 15)\t0.24613641459392016\n",
      "  (0, 1)\t0.24613641459392016\n",
      "  (0, 19)\t0.24613641459392016\n",
      "  (0, 2)\t0.24613641459392016\n",
      "  (0, 17)\t0.24613641459392016\n",
      "  (0, 0)\t0.24613641459392016\n",
      "  (0, 11)\t0.24613641459392016\n",
      "  (0, 14)\t0.24613641459392016\n",
      "  (0, 5)\t0.24613641459392016\n",
      "  (0, 18)\t0.1751280861929285\n",
      "  (1, 7)\t0.534046329052269\n",
      "  (1, 10)\t0.534046329052269\n",
      "  (1, 4)\t0.534046329052269\n",
      "  (1, 18)\t0.37997836159100784\n"
     ]
    }
   ],
   "source": [
    "tfidf = TfidfVectorizer()\n",
    "df_a = pd.read_csv('AmazonProductdata.csv')\n",
    "df_f=pd.read_csv('FlipkartDataset.csv')\n",
    "df_s= pd.read_csv('SnapdealDataset.csv')\n",
    "\n",
    "\n",
    "AmazonNameList=df_a['Name'].tolist()\n",
    "FlipkartNameList=df_f['Name'].tolist()\n",
    "SnapdealNameList=df_s['Name'].tolist()\n",
    "\n",
    "def Checktfidfvalue(Str1,Str2):\n",
    "    response = tfidf.fit_transform([Str1,Str2])\n",
    "    print(tfidf.vocabulary_)\n",
    "    print(response)\n",
    "\n",
    "amazonproduct1 = AmazonNameList[2]\n",
    "flipkartproduct1 = FlipkartNameList[0]\n",
    "snapdealproduct1 = SnapdealNameList[0]\n",
    "\n",
    "Checktfidfvalue(amazonproduct1,flipkartproduct1)\n",
    "Checktfidfvalue(amazonproduct1,snapdealproduct1)\n",
    "\n",
    "\n",
    "\n"
   ]
  },
  {
   "cell_type": "code",
   "execution_count": null,
   "id": "a2a7b1bf",
   "metadata": {},
   "outputs": [],
   "source": []
  }
 ],
 "metadata": {
  "kernelspec": {
   "display_name": "Python 3",
   "language": "python",
   "name": "python3"
  },
  "language_info": {
   "codemirror_mode": {
    "name": "ipython",
    "version": 3
   },
   "file_extension": ".py",
   "mimetype": "text/x-python",
   "name": "python",
   "nbconvert_exporter": "python",
   "pygments_lexer": "ipython3",
   "version": "3.8.8"
  }
 },
 "nbformat": 4,
 "nbformat_minor": 5
}
